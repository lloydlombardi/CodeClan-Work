{
 "cells": [
  {
   "cell_type": "markdown",
   "id": "4edf4c5b",
   "metadata": {},
   "source": [
    "This is a markdown cell\n",
    "Change to this cell by pressing \"M\" in Command Mode"
   ]
  },
  {
   "cell_type": "code",
   "execution_count": null,
   "id": "c1b3fcbc",
   "metadata": {},
   "outputs": [],
   "source": []
  }
 ],
 "metadata": {
  "kernelspec": {
   "display_name": "Python 3 (ipykernel)",
   "language": "python",
   "name": "python3"
  },
  "language_info": {
   "codemirror_mode": {
    "name": "ipython",
    "version": 3
   },
   "file_extension": ".py",
   "mimetype": "text/x-python",
   "name": "python",
   "nbconvert_exporter": "python",
   "pygments_lexer": "ipython3",
   "version": "3.9.12"
  }
 },
 "nbformat": 4,
 "nbformat_minor": 5
}
