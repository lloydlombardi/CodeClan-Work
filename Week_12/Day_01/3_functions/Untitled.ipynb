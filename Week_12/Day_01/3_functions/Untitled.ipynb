{
 "cells": [
  {
   "cell_type": "markdown",
   "id": "32a959e0",
   "metadata": {},
   "source": [
    " # Function Basics"
   ]
  },
  {
   "cell_type": "code",
   "execution_count": 1,
   "id": "dc059f69",
   "metadata": {},
   "outputs": [],
   "source": [
    "def greet():\n",
    "    print(\"Hey!\")"
   ]
  },
  {
   "cell_type": "code",
   "execution_count": 2,
   "id": "33b6fda1",
   "metadata": {},
   "outputs": [
    {
     "name": "stdout",
     "output_type": "stream",
     "text": [
      "Hey!\n"
     ]
    }
   ],
   "source": [
    "greet()"
   ]
  },
  {
   "cell_type": "code",
   "execution_count": 3,
   "id": "2558112a",
   "metadata": {},
   "outputs": [],
   "source": [
    "def greet():\n",
    "    return \"Hey!\""
   ]
  },
  {
   "cell_type": "code",
   "execution_count": 4,
   "id": "6cf3ff97",
   "metadata": {},
   "outputs": [
    {
     "data": {
      "text/plain": [
       "'Hey!'"
      ]
     },
     "execution_count": 4,
     "metadata": {},
     "output_type": "execute_result"
    }
   ],
   "source": [
    "greet()"
   ]
  },
  {
   "cell_type": "code",
   "execution_count": 5,
   "id": "8c5aa732",
   "metadata": {},
   "outputs": [],
   "source": [
    "def greet(name):\n",
    "    return \"Hey \" + name"
   ]
  },
  {
   "cell_type": "code",
   "execution_count": 6,
   "id": "c95451a3",
   "metadata": {},
   "outputs": [
    {
     "data": {
      "text/plain": [
       "'Hey Lloyd'"
      ]
     },
     "execution_count": 6,
     "metadata": {},
     "output_type": "execute_result"
    }
   ],
   "source": [
    "greet(\"Lloyd\")"
   ]
  },
  {
   "cell_type": "code",
   "execution_count": 8,
   "id": "aa8a5086",
   "metadata": {},
   "outputs": [],
   "source": [
    "def greet(name, time_of_day):\n",
    "    return \"Good \" + time_of_day + \", \" + name"
   ]
  },
  {
   "cell_type": "code",
   "execution_count": 9,
   "id": "a80abb78",
   "metadata": {},
   "outputs": [
    {
     "data": {
      "text/plain": [
       "'Good afternoon, Lloyd'"
      ]
     },
     "execution_count": 9,
     "metadata": {},
     "output_type": "execute_result"
    }
   ],
   "source": [
    "greet(\"Lloyd\", \"afternoon\")"
   ]
  },
  {
   "cell_type": "code",
   "execution_count": 13,
   "id": "11c5cdbd",
   "metadata": {},
   "outputs": [],
   "source": [
    "def calculate_mean(x, y):\n",
    "    return (x + y) / 2"
   ]
  },
  {
   "cell_type": "code",
   "execution_count": 14,
   "id": "387b6404",
   "metadata": {},
   "outputs": [
    {
     "data": {
      "text/plain": [
       "15.0"
      ]
     },
     "execution_count": 14,
     "metadata": {},
     "output_type": "execute_result"
    }
   ],
   "source": [
    "calculate_mean(10, 20)"
   ]
  },
  {
   "cell_type": "code",
   "execution_count": 15,
   "id": "1e554b61",
   "metadata": {},
   "outputs": [],
   "source": [
    "def is_even(number):\n",
    "    if (number % 2 == 0):\n",
    "        return True\n",
    "    else:\n",
    "        return False\n",
    "    \n",
    "def sum_of_even_numbers(numbers):\n",
    "    running_total = 0\n",
    "    for number in numbers:\n",
    "        if(is_even(number)):\n",
    "            running_total += number\n",
    "    return running_total"
   ]
  },
  {
   "cell_type": "code",
   "execution_count": 16,
   "id": "be3db336",
   "metadata": {},
   "outputs": [
    {
     "data": {
      "text/plain": [
       "False"
      ]
     },
     "execution_count": 16,
     "metadata": {},
     "output_type": "execute_result"
    }
   ],
   "source": [
    "is_even(5)"
   ]
  },
  {
   "cell_type": "code",
   "execution_count": 17,
   "id": "d7bb2faa",
   "metadata": {},
   "outputs": [
    {
     "data": {
      "text/plain": [
       "6"
      ]
     },
     "execution_count": 17,
     "metadata": {},
     "output_type": "execute_result"
    }
   ],
   "source": [
    "sum_of_even_numbers([1, 2, 3, 4])"
   ]
  },
  {
   "cell_type": "code",
   "execution_count": 18,
   "id": "0d0ed3b0",
   "metadata": {},
   "outputs": [
    {
     "data": {
      "text/plain": [
       "9"
      ]
     },
     "execution_count": 18,
     "metadata": {},
     "output_type": "execute_result"
    }
   ],
   "source": [
    "def square(number):\n",
    "    return number ** 2\n",
    "\n",
    "def modify_number(number, modifier_function):\n",
    "    return modifier_function(number)\n",
    "\n",
    "modify_number(3, square)"
   ]
  },
  {
   "cell_type": "code",
   "execution_count": 21,
   "id": "b45f42ab",
   "metadata": {},
   "outputs": [
    {
     "data": {
      "text/plain": [
       "'£5'"
      ]
     },
     "execution_count": 21,
     "metadata": {},
     "output_type": "execute_result"
    }
   ],
   "source": [
    "def make_price(number):\n",
    "    return \"£\" + str(number)\n",
    "\n",
    "make_price(5)"
   ]
  },
  {
   "cell_type": "code",
   "execution_count": 22,
   "id": "0016f6d6",
   "metadata": {},
   "outputs": [
    {
     "data": {
      "text/plain": [
       "'£123'"
      ]
     },
     "execution_count": 22,
     "metadata": {},
     "output_type": "execute_result"
    }
   ],
   "source": [
    "make_price(123)"
   ]
  },
  {
   "cell_type": "code",
   "execution_count": null,
   "id": "04c9e0ec",
   "metadata": {},
   "outputs": [],
   "source": []
  },
  {
   "cell_type": "code",
   "execution_count": null,
   "id": "9250b2c6",
   "metadata": {},
   "outputs": [],
   "source": []
  },
  {
   "cell_type": "code",
   "execution_count": null,
   "id": "c8ff5245",
   "metadata": {},
   "outputs": [],
   "source": []
  },
  {
   "cell_type": "code",
   "execution_count": null,
   "id": "65c4e291",
   "metadata": {},
   "outputs": [],
   "source": []
  },
  {
   "cell_type": "code",
   "execution_count": null,
   "id": "36a6de15",
   "metadata": {},
   "outputs": [],
   "source": []
  },
  {
   "cell_type": "code",
   "execution_count": null,
   "id": "1132154e",
   "metadata": {},
   "outputs": [],
   "source": []
  },
  {
   "cell_type": "code",
   "execution_count": null,
   "id": "2b9e9059",
   "metadata": {},
   "outputs": [],
   "source": []
  },
  {
   "cell_type": "code",
   "execution_count": null,
   "id": "fd493aed",
   "metadata": {},
   "outputs": [],
   "source": []
  },
  {
   "cell_type": "code",
   "execution_count": null,
   "id": "7607f6dd",
   "metadata": {},
   "outputs": [],
   "source": []
  },
  {
   "cell_type": "code",
   "execution_count": null,
   "id": "cfbb3a9c",
   "metadata": {},
   "outputs": [],
   "source": []
  },
  {
   "cell_type": "code",
   "execution_count": null,
   "id": "c174f382",
   "metadata": {},
   "outputs": [],
   "source": []
  }
 ],
 "metadata": {
  "kernelspec": {
   "display_name": "Python 3 (ipykernel)",
   "language": "python",
   "name": "python3"
  },
  "language_info": {
   "codemirror_mode": {
    "name": "ipython",
    "version": 3
   },
   "file_extension": ".py",
   "mimetype": "text/x-python",
   "name": "python",
   "nbconvert_exporter": "python",
   "pygments_lexer": "ipython3",
   "version": "3.9.12"
  },
  "varInspector": {
   "cols": {
    "lenName": 16,
    "lenType": 16,
    "lenVar": 40
   },
   "kernels_config": {
    "python": {
     "delete_cmd_postfix": "",
     "delete_cmd_prefix": "del ",
     "library": "var_list.py",
     "varRefreshCmd": "print(var_dic_list())"
    },
    "r": {
     "delete_cmd_postfix": ") ",
     "delete_cmd_prefix": "rm(",
     "library": "var_list.r",
     "varRefreshCmd": "cat(var_dic_list()) "
    }
   },
   "types_to_exclude": [
    "module",
    "function",
    "builtin_function_or_method",
    "instance",
    "_Feature"
   ],
   "window_display": false
  }
 },
 "nbformat": 4,
 "nbformat_minor": 5
}
