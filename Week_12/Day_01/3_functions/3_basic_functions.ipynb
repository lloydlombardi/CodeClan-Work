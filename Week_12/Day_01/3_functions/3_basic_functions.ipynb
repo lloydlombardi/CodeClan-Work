{
 "cells": [
  {
   "cell_type": "markdown",
   "id": "aaecbb3d",
   "metadata": {},
   "source": [
    " # Function Basics"
   ]
  },
  {
   "cell_type": "code",
   "execution_count": 1,
   "id": "419daaa1",
   "metadata": {},
   "outputs": [],
   "source": [
    "def greet():\n",
    "    print(\"Hey!\")"
   ]
  },
  {
   "cell_type": "code",
   "execution_count": 2,
   "id": "b85abaea",
   "metadata": {},
   "outputs": [
    {
     "name": "stdout",
     "output_type": "stream",
     "text": [
      "Hey!\n"
     ]
    }
   ],
   "source": [
    "greet()"
   ]
  },
  {
   "cell_type": "code",
   "execution_count": 3,
   "id": "24681c7d",
   "metadata": {},
   "outputs": [],
   "source": [
    "def greet():\n",
    "    return \"Hey!\""
   ]
  },
  {
   "cell_type": "code",
   "execution_count": 4,
   "id": "62aec339",
   "metadata": {},
   "outputs": [
    {
     "data": {
      "text/plain": [
       "'Hey!'"
      ]
     },
     "execution_count": 4,
     "metadata": {},
     "output_type": "execute_result"
    }
   ],
   "source": [
    "greet()"
   ]
  },
  {
   "cell_type": "code",
   "execution_count": 5,
   "id": "3f521119",
   "metadata": {},
   "outputs": [],
   "source": [
    "def greet(name):\n",
    "    return \"Hey \" + name"
   ]
  },
  {
   "cell_type": "code",
   "execution_count": 6,
   "id": "ea7d93ab",
   "metadata": {},
   "outputs": [
    {
     "data": {
      "text/plain": [
       "'Hey Lloyd'"
      ]
     },
     "execution_count": 6,
     "metadata": {},
     "output_type": "execute_result"
    }
   ],
   "source": [
    "greet(\"Lloyd\")"
   ]
  },
  {
   "cell_type": "code",
   "execution_count": 8,
   "id": "7ebf2689",
   "metadata": {},
   "outputs": [],
   "source": [
    "def greet(name, time_of_day):\n",
    "    return \"Good \" + time_of_day + \", \" + name"
   ]
  },
  {
   "cell_type": "code",
   "execution_count": 9,
   "id": "fdf24938",
   "metadata": {},
   "outputs": [
    {
     "data": {
      "text/plain": [
       "'Good afternoon, Lloyd'"
      ]
     },
     "execution_count": 9,
     "metadata": {},
     "output_type": "execute_result"
    }
   ],
   "source": [
    "greet(\"Lloyd\", \"afternoon\")"
   ]
  },
  {
   "cell_type": "code",
   "execution_count": 13,
   "id": "050ddd81",
   "metadata": {},
   "outputs": [],
   "source": [
    "def calculate_mean(x, y):\n",
    "    return (x + y) / 2"
   ]
  },
  {
   "cell_type": "code",
   "execution_count": 14,
   "id": "1b431303",
   "metadata": {},
   "outputs": [
    {
     "data": {
      "text/plain": [
       "15.0"
      ]
     },
     "execution_count": 14,
     "metadata": {},
     "output_type": "execute_result"
    }
   ],
   "source": [
    "calculate_mean(10, 20)"
   ]
  },
  {
   "cell_type": "code",
   "execution_count": 15,
   "id": "2f35c367",
   "metadata": {},
   "outputs": [],
   "source": [
    "def is_even(number):\n",
    "    if (number % 2 == 0):\n",
    "        return True\n",
    "    else:\n",
    "        return False\n",
    "    \n",
    "def sum_of_even_numbers(numbers):\n",
    "    running_total = 0\n",
    "    for number in numbers:\n",
    "        if(is_even(number)):\n",
    "            running_total += number\n",
    "    return running_total"
   ]
  },
  {
   "cell_type": "code",
   "execution_count": 16,
   "id": "43dde909",
   "metadata": {},
   "outputs": [
    {
     "data": {
      "text/plain": [
       "False"
      ]
     },
     "execution_count": 16,
     "metadata": {},
     "output_type": "execute_result"
    }
   ],
   "source": [
    "is_even(5)"
   ]
  },
  {
   "cell_type": "code",
   "execution_count": 17,
   "id": "b0c97e0c",
   "metadata": {},
   "outputs": [
    {
     "data": {
      "text/plain": [
       "6"
      ]
     },
     "execution_count": 17,
     "metadata": {},
     "output_type": "execute_result"
    }
   ],
   "source": [
    "sum_of_even_numbers([1, 2, 3, 4])"
   ]
  },
  {
   "cell_type": "code",
   "execution_count": 18,
   "id": "a05131c9",
   "metadata": {},
   "outputs": [
    {
     "data": {
      "text/plain": [
       "9"
      ]
     },
     "execution_count": 18,
     "metadata": {},
     "output_type": "execute_result"
    }
   ],
   "source": [
    "def square(number):\n",
    "    return number ** 2\n",
    "\n",
    "def modify_number(number, modifier_function):\n",
    "    return modifier_function(number)\n",
    "\n",
    "modify_number(3, square)"
   ]
  },
  {
   "cell_type": "code",
   "execution_count": 21,
   "id": "398cd3cb",
   "metadata": {},
   "outputs": [
    {
     "data": {
      "text/plain": [
       "'£5'"
      ]
     },
     "execution_count": 21,
     "metadata": {},
     "output_type": "execute_result"
    }
   ],
   "source": [
    "def make_price(number):\n",
    "    return \"£\" + str(number)\n",
    "\n",
    "make_price(5)"
   ]
  },
  {
   "cell_type": "code",
   "execution_count": 22,
   "id": "8b58f36b",
   "metadata": {},
   "outputs": [
    {
     "data": {
      "text/plain": [
       "'£123'"
      ]
     },
     "execution_count": 22,
     "metadata": {},
     "output_type": "execute_result"
    }
   ],
   "source": [
    "make_price(123)"
   ]
  },
  {
   "cell_type": "code",
   "execution_count": null,
   "id": "f64f051b",
   "metadata": {},
   "outputs": [],
   "source": []
  },
  {
   "cell_type": "code",
   "execution_count": null,
   "id": "ff6c2b89",
   "metadata": {},
   "outputs": [],
   "source": []
  },
  {
   "cell_type": "code",
   "execution_count": null,
   "id": "08936271",
   "metadata": {},
   "outputs": [],
   "source": []
  },
  {
   "cell_type": "code",
   "execution_count": null,
   "id": "f8634a60",
   "metadata": {},
   "outputs": [],
   "source": []
  },
  {
   "cell_type": "code",
   "execution_count": null,
   "id": "10d7a392",
   "metadata": {},
   "outputs": [],
   "source": []
  },
  {
   "cell_type": "code",
   "execution_count": null,
   "id": "38ca251c",
   "metadata": {},
   "outputs": [],
   "source": []
  },
  {
   "cell_type": "code",
   "execution_count": null,
   "id": "56d45dff",
   "metadata": {},
   "outputs": [],
   "source": []
  },
  {
   "cell_type": "code",
   "execution_count": null,
   "id": "c4e7e135",
   "metadata": {},
   "outputs": [],
   "source": []
  },
  {
   "cell_type": "code",
   "execution_count": null,
   "id": "befd6be4",
   "metadata": {},
   "outputs": [],
   "source": []
  },
  {
   "cell_type": "code",
   "execution_count": null,
   "id": "46f1eec7",
   "metadata": {},
   "outputs": [],
   "source": []
  },
  {
   "cell_type": "code",
   "execution_count": null,
   "id": "bd236ff3",
   "metadata": {},
   "outputs": [],
   "source": []
  }
 ],
 "metadata": {
  "kernelspec": {
   "display_name": "Python 3 (ipykernel)",
   "language": "python",
   "name": "python3"
  },
  "language_info": {
   "codemirror_mode": {
    "name": "ipython",
    "version": 3
   },
   "file_extension": ".py",
   "mimetype": "text/x-python",
   "name": "python",
   "nbconvert_exporter": "python",
   "pygments_lexer": "ipython3",
   "version": "3.9.12"
  },
  "varInspector": {
   "cols": {
    "lenName": 16,
    "lenType": 16,
    "lenVar": 40
   },
   "kernels_config": {
    "python": {
     "delete_cmd_postfix": "",
     "delete_cmd_prefix": "del ",
     "library": "var_list.py",
     "varRefreshCmd": "print(var_dic_list())"
    },
    "r": {
     "delete_cmd_postfix": ") ",
     "delete_cmd_prefix": "rm(",
     "library": "var_list.r",
     "varRefreshCmd": "cat(var_dic_list()) "
    }
   },
   "types_to_exclude": [
    "module",
    "function",
    "builtin_function_or_method",
    "instance",
    "_Feature"
   ],
   "window_display": false
  }
 },
 "nbformat": 4,
 "nbformat_minor": 5
}
