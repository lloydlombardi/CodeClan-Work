{
 "cells": [
  {
   "cell_type": "markdown",
   "id": "af1ffe6b",
   "metadata": {},
   "source": [
    "# Groupby Extras\n",
    "\n",
    "* deeper dive into the `groupby` object\n",
    "* using multiple aggregators \n",
    "* custom aggregators"
   ]
  },
  {
   "cell_type": "code",
   "execution_count": 1,
   "id": "d0be28a6",
   "metadata": {},
   "outputs": [
    {
     "data": {
      "text/html": [
       "<div>\n",
       "<style scoped>\n",
       "    .dataframe tbody tr th:only-of-type {\n",
       "        vertical-align: middle;\n",
       "    }\n",
       "\n",
       "    .dataframe tbody tr th {\n",
       "        vertical-align: top;\n",
       "    }\n",
       "\n",
       "    .dataframe thead th {\n",
       "        text-align: right;\n",
       "    }\n",
       "</style>\n",
       "<table border=\"1\" class=\"dataframe\">\n",
       "  <thead>\n",
       "    <tr style=\"text-align: right;\">\n",
       "      <th></th>\n",
       "      <th>item_no</th>\n",
       "      <th>cost_class</th>\n",
       "      <th>cost</th>\n",
       "      <th>stock_code</th>\n",
       "      <th>priority_code</th>\n",
       "      <th>tax_rate</th>\n",
       "    </tr>\n",
       "  </thead>\n",
       "  <tbody>\n",
       "    <tr>\n",
       "      <th>0</th>\n",
       "      <td>1</td>\n",
       "      <td>1st</td>\n",
       "      <td>10.99</td>\n",
       "      <td>a</td>\n",
       "      <td>&lt;NA&gt;</td>\n",
       "      <td>0</td>\n",
       "    </tr>\n",
       "    <tr>\n",
       "      <th>1</th>\n",
       "      <td>2</td>\n",
       "      <td>2nd</td>\n",
       "      <td>NaN</td>\n",
       "      <td>a</td>\n",
       "      <td>&lt;NA&gt;</td>\n",
       "      <td>0</td>\n",
       "    </tr>\n",
       "    <tr>\n",
       "      <th>2</th>\n",
       "      <td>2</td>\n",
       "      <td>3rd</td>\n",
       "      <td>2.99</td>\n",
       "      <td>c</td>\n",
       "      <td>a</td>\n",
       "      <td>20</td>\n",
       "    </tr>\n",
       "    <tr>\n",
       "      <th>3</th>\n",
       "      <td>4</td>\n",
       "      <td>4th</td>\n",
       "      <td>NaN</td>\n",
       "      <td>b</td>\n",
       "      <td>b</td>\n",
       "      <td>20</td>\n",
       "    </tr>\n",
       "    <tr>\n",
       "      <th>4</th>\n",
       "      <td>5</td>\n",
       "      <td>4th</td>\n",
       "      <td>2.99</td>\n",
       "      <td>a</td>\n",
       "      <td>&lt;NA&gt;</td>\n",
       "      <td>20</td>\n",
       "    </tr>\n",
       "    <tr>\n",
       "      <th>5</th>\n",
       "      <td>6</td>\n",
       "      <td>3rd</td>\n",
       "      <td>2.45</td>\n",
       "      <td>b</td>\n",
       "      <td>a</td>\n",
       "      <td>0</td>\n",
       "    </tr>\n",
       "    <tr>\n",
       "      <th>6</th>\n",
       "      <td>7</td>\n",
       "      <td>2nd</td>\n",
       "      <td>5.99</td>\n",
       "      <td>&lt;NA&gt;</td>\n",
       "      <td>e</td>\n",
       "      <td>20</td>\n",
       "    </tr>\n",
       "    <tr>\n",
       "      <th>7</th>\n",
       "      <td>8</td>\n",
       "      <td>&lt;NA&gt;</td>\n",
       "      <td>5.99</td>\n",
       "      <td>&lt;NA&gt;</td>\n",
       "      <td>&lt;NA&gt;</td>\n",
       "      <td>20</td>\n",
       "    </tr>\n",
       "    <tr>\n",
       "      <th>8</th>\n",
       "      <td>9</td>\n",
       "      <td>1st</td>\n",
       "      <td>3.00</td>\n",
       "      <td>a</td>\n",
       "      <td>a</td>\n",
       "      <td>5</td>\n",
       "    </tr>\n",
       "    <tr>\n",
       "      <th>9</th>\n",
       "      <td>10</td>\n",
       "      <td>3rd</td>\n",
       "      <td>NaN</td>\n",
       "      <td>c</td>\n",
       "      <td>d</td>\n",
       "      <td>20</td>\n",
       "    </tr>\n",
       "  </tbody>\n",
       "</table>\n",
       "</div>"
      ],
      "text/plain": [
       "   item_no cost_class   cost stock_code priority_code  tax_rate\n",
       "0        1        1st  10.99          a          <NA>         0\n",
       "1        2        2nd    NaN          a          <NA>         0\n",
       "2        2        3rd   2.99          c             a        20\n",
       "3        4        4th    NaN          b             b        20\n",
       "4        5        4th   2.99          a          <NA>        20\n",
       "5        6        3rd   2.45          b             a         0\n",
       "6        7        2nd   5.99       <NA>             e        20\n",
       "7        8       <NA>   5.99       <NA>          <NA>        20\n",
       "8        9        1st   3.00          a             a         5\n",
       "9       10        3rd    NaN          c             d        20"
      ]
     },
     "execution_count": 1,
     "metadata": {},
     "output_type": "execute_result"
    }
   ],
   "source": [
    "import pandas as pd\n",
    "import numpy as np\n",
    "\n",
    "stock = pd.DataFrame({\n",
    "    'item_no': pd.Series([1, 2, 2, 4, 5, 6, 7, 8, 9, 10], dtype='Int64'),\n",
    "    'cost_class': pd.Series(['1st', '2nd', '3rd', '4th', '4th', '3rd', '2nd', np.nan, '1st', '3rd'], dtype='string'),\n",
    "    'cost': pd.Series([10.99, np.nan, 2.99, np.nan, 2.99, 2.45, 5.99, 5.99, 3.00, None], dtype='float64'),\n",
    "    'stock_code': pd.Series(['a', 'a', 'c', 'b', 'a', 'b', np.nan, np.nan, 'a', 'c'], dtype='string'),\n",
    "    'priority_code': pd.Series([np.nan, None, 'a', 'b', None, 'a', 'e', None, 'a', 'd'], dtype='string'),\n",
    "    'tax_rate': pd.Series([0, 0, 20, 20, 20, 0, 20, 20, 5, 20])\n",
    "})\n",
    "\n",
    "stock"
   ]
  },
  {
   "cell_type": "code",
   "execution_count": 2,
   "id": "d5b76dc3",
   "metadata": {},
   "outputs": [],
   "source": [
    "grouped_stock = (\n",
    "    stock\n",
    "    .groupby(\"stock_code\")\n",
    ")"
   ]
  },
  {
   "cell_type": "code",
   "execution_count": 4,
   "id": "74b5b402",
   "metadata": {},
   "outputs": [
    {
     "data": {
      "text/plain": [
       "stock_code\n",
       "a    1st\n",
       "b    3rd\n",
       "c    3rd\n",
       "Name: cost_class, dtype: string"
      ]
     },
     "execution_count": 4,
     "metadata": {},
     "output_type": "execute_result"
    }
   ],
   "source": [
    "grouped_stock.cost_class.min()"
   ]
  },
  {
   "cell_type": "code",
   "execution_count": 6,
   "id": "25cd24d2",
   "metadata": {},
   "outputs": [
    {
     "data": {
      "text/plain": [
       "<pandas.core.groupby.generic.DataFrameGroupBy object at 0x7f7b5b150760>"
      ]
     },
     "execution_count": 6,
     "metadata": {},
     "output_type": "execute_result"
    }
   ],
   "source": [
    "grouped_stock"
   ]
  },
  {
   "cell_type": "code",
   "execution_count": 9,
   "id": "0dddbdf4",
   "metadata": {},
   "outputs": [
    {
     "data": {
      "text/html": [
       "<div>\n",
       "<style scoped>\n",
       "    .dataframe tbody tr th:only-of-type {\n",
       "        vertical-align: middle;\n",
       "    }\n",
       "\n",
       "    .dataframe tbody tr th {\n",
       "        vertical-align: top;\n",
       "    }\n",
       "\n",
       "    .dataframe thead th {\n",
       "        text-align: right;\n",
       "    }\n",
       "</style>\n",
       "<table border=\"1\" class=\"dataframe\">\n",
       "  <thead>\n",
       "    <tr style=\"text-align: right;\">\n",
       "      <th></th>\n",
       "      <th>item_no</th>\n",
       "      <th>cost_class</th>\n",
       "      <th>cost</th>\n",
       "      <th>stock_code</th>\n",
       "      <th>priority_code</th>\n",
       "      <th>tax_rate</th>\n",
       "    </tr>\n",
       "  </thead>\n",
       "  <tbody>\n",
       "    <tr>\n",
       "      <th>0</th>\n",
       "      <td>1</td>\n",
       "      <td>1st</td>\n",
       "      <td>10.99</td>\n",
       "      <td>a</td>\n",
       "      <td>&lt;NA&gt;</td>\n",
       "      <td>0</td>\n",
       "    </tr>\n",
       "    <tr>\n",
       "      <th>1</th>\n",
       "      <td>2</td>\n",
       "      <td>2nd</td>\n",
       "      <td>NaN</td>\n",
       "      <td>a</td>\n",
       "      <td>&lt;NA&gt;</td>\n",
       "      <td>0</td>\n",
       "    </tr>\n",
       "    <tr>\n",
       "      <th>4</th>\n",
       "      <td>5</td>\n",
       "      <td>4th</td>\n",
       "      <td>2.99</td>\n",
       "      <td>a</td>\n",
       "      <td>&lt;NA&gt;</td>\n",
       "      <td>20</td>\n",
       "    </tr>\n",
       "    <tr>\n",
       "      <th>8</th>\n",
       "      <td>9</td>\n",
       "      <td>1st</td>\n",
       "      <td>3.00</td>\n",
       "      <td>a</td>\n",
       "      <td>a</td>\n",
       "      <td>5</td>\n",
       "    </tr>\n",
       "  </tbody>\n",
       "</table>\n",
       "</div>"
      ],
      "text/plain": [
       "   item_no cost_class   cost stock_code priority_code  tax_rate\n",
       "0        1        1st  10.99          a          <NA>         0\n",
       "1        2        2nd    NaN          a          <NA>         0\n",
       "4        5        4th   2.99          a          <NA>        20\n",
       "8        9        1st   3.00          a             a         5"
      ]
     },
     "execution_count": 9,
     "metadata": {},
     "output_type": "execute_result"
    }
   ],
   "source": [
    "pd.DataFrame(grouped_stock).loc[0, 1]"
   ]
  },
  {
   "cell_type": "markdown",
   "id": "afdf2edb",
   "metadata": {},
   "source": [
    "* splitting\n",
    "* split-apply-combine\n",
    "* groupby = split"
   ]
  },
  {
   "cell_type": "code",
   "execution_count": 10,
   "id": "e2bf1e44",
   "metadata": {},
   "outputs": [
    {
     "data": {
      "text/html": [
       "<div>\n",
       "<style scoped>\n",
       "    .dataframe tbody tr th:only-of-type {\n",
       "        vertical-align: middle;\n",
       "    }\n",
       "\n",
       "    .dataframe tbody tr th {\n",
       "        vertical-align: top;\n",
       "    }\n",
       "\n",
       "    .dataframe thead th {\n",
       "        text-align: right;\n",
       "    }\n",
       "</style>\n",
       "<table border=\"1\" class=\"dataframe\">\n",
       "  <thead>\n",
       "    <tr style=\"text-align: right;\">\n",
       "      <th></th>\n",
       "      <th>item_no</th>\n",
       "      <th>cost_class</th>\n",
       "      <th>cost</th>\n",
       "      <th>priority_code</th>\n",
       "      <th>tax_rate</th>\n",
       "    </tr>\n",
       "    <tr>\n",
       "      <th>stock_code</th>\n",
       "      <th></th>\n",
       "      <th></th>\n",
       "      <th></th>\n",
       "      <th></th>\n",
       "      <th></th>\n",
       "    </tr>\n",
       "  </thead>\n",
       "  <tbody>\n",
       "    <tr>\n",
       "      <th>a</th>\n",
       "      <td>4</td>\n",
       "      <td>4</td>\n",
       "      <td>3</td>\n",
       "      <td>1</td>\n",
       "      <td>4</td>\n",
       "    </tr>\n",
       "    <tr>\n",
       "      <th>b</th>\n",
       "      <td>2</td>\n",
       "      <td>2</td>\n",
       "      <td>1</td>\n",
       "      <td>2</td>\n",
       "      <td>2</td>\n",
       "    </tr>\n",
       "    <tr>\n",
       "      <th>c</th>\n",
       "      <td>2</td>\n",
       "      <td>2</td>\n",
       "      <td>1</td>\n",
       "      <td>2</td>\n",
       "      <td>2</td>\n",
       "    </tr>\n",
       "  </tbody>\n",
       "</table>\n",
       "</div>"
      ],
      "text/plain": [
       "            item_no  cost_class  cost  priority_code  tax_rate\n",
       "stock_code                                                    \n",
       "a                 4           4     3              1         4\n",
       "b                 2           2     1              2         2\n",
       "c                 2           2     1              2         2"
      ]
     },
     "execution_count": 10,
     "metadata": {},
     "output_type": "execute_result"
    }
   ],
   "source": [
    "grouped_stock.count()"
   ]
  },
  {
   "cell_type": "markdown",
   "id": "31fd20c6",
   "metadata": {},
   "source": [
    "## Applying Multiple Aggregators\n",
    "\n",
    "using the `.agg()` method and a list of strings\n",
    "\n",
    "so now\n",
    "\n",
    "* we apply each aggregate function to our group\n",
    "* combine each group summary\n",
    "* output"
   ]
  },
  {
   "cell_type": "code",
   "execution_count": 13,
   "id": "04c7336c",
   "metadata": {},
   "outputs": [],
   "source": [
    "multiple_aggs = (\n",
    "    grouped_stock\n",
    "    .agg([\"count\", \"min\", \"max\"])\n",
    ")"
   ]
  },
  {
   "cell_type": "code",
   "execution_count": 15,
   "id": "901e5a99",
   "metadata": {},
   "outputs": [
    {
     "data": {
      "text/plain": [
       "MultiIndex([(      'item_no', 'count'),\n",
       "            (      'item_no',   'min'),\n",
       "            (      'item_no',   'max'),\n",
       "            (   'cost_class', 'count'),\n",
       "            (   'cost_class',   'min'),\n",
       "            (   'cost_class',   'max'),\n",
       "            (         'cost', 'count'),\n",
       "            (         'cost',   'min'),\n",
       "            (         'cost',   'max'),\n",
       "            ('priority_code', 'count'),\n",
       "            ('priority_code',   'min'),\n",
       "            ('priority_code',   'max'),\n",
       "            (     'tax_rate', 'count'),\n",
       "            (     'tax_rate',   'min'),\n",
       "            (     'tax_rate',   'max')],\n",
       "           )"
      ]
     },
     "execution_count": 15,
     "metadata": {},
     "output_type": "execute_result"
    }
   ],
   "source": [
    "# columns are now a MultiIndex\n",
    "\n",
    "multiple_aggs.columns"
   ]
  },
  {
   "cell_type": "markdown",
   "id": "43004693",
   "metadata": {},
   "source": [
    "### Column formula\n",
    "\n",
    "```python\n",
    "(original_column_name, aggregate_function_name)\n",
    "```"
   ]
  },
  {
   "cell_type": "code",
   "execution_count": 16,
   "id": "d4c71b2c",
   "metadata": {},
   "outputs": [
    {
     "data": {
      "text/plain": [
       "stock_code\n",
       "a    10.99\n",
       "b     2.45\n",
       "c     2.99\n",
       "Name: (cost, max), dtype: float64"
      ]
     },
     "execution_count": 16,
     "metadata": {},
     "output_type": "execute_result"
    }
   ],
   "source": [
    "# what is the max cost for each stock code??\n",
    "\n",
    "multiple_aggs.loc[:, (\"cost\", \"max\")]"
   ]
  },
  {
   "cell_type": "markdown",
   "id": "c11cbbee",
   "metadata": {},
   "source": [
    "Task:\n",
    "\n",
    "Get the `mean`, `count` and `max` for all variables in `stock`\n",
    "\n",
    "* what has gone wrong??\n",
    "* why??"
   ]
  },
  {
   "cell_type": "code",
   "execution_count": 19,
   "id": "f02da7bf",
   "metadata": {},
   "outputs": [
    {
     "name": "stderr",
     "output_type": "stream",
     "text": [
      "/var/folders/xp/pxq000_97vz2g8qfqw7qtgvm0000gn/T/ipykernel_17093/3412093515.py:2: FutureWarning: ['cost_class', 'priority_code'] did not aggregate successfully. If any error is raised this will raise in a future version of pandas. Drop these columns/ops to avoid this warning.\n",
      "  grouped_stock\n"
     ]
    },
    {
     "data": {
      "text/html": [
       "<div>\n",
       "<style scoped>\n",
       "    .dataframe tbody tr th:only-of-type {\n",
       "        vertical-align: middle;\n",
       "    }\n",
       "\n",
       "    .dataframe tbody tr th {\n",
       "        vertical-align: top;\n",
       "    }\n",
       "\n",
       "    .dataframe thead tr th {\n",
       "        text-align: left;\n",
       "    }\n",
       "\n",
       "    .dataframe thead tr:last-of-type th {\n",
       "        text-align: right;\n",
       "    }\n",
       "</style>\n",
       "<table border=\"1\" class=\"dataframe\">\n",
       "  <thead>\n",
       "    <tr>\n",
       "      <th></th>\n",
       "      <th colspan=\"3\" halign=\"left\">item_no</th>\n",
       "      <th colspan=\"3\" halign=\"left\">cost</th>\n",
       "      <th colspan=\"3\" halign=\"left\">tax_rate</th>\n",
       "    </tr>\n",
       "    <tr>\n",
       "      <th></th>\n",
       "      <th>mean</th>\n",
       "      <th>count</th>\n",
       "      <th>max</th>\n",
       "      <th>mean</th>\n",
       "      <th>count</th>\n",
       "      <th>max</th>\n",
       "      <th>mean</th>\n",
       "      <th>count</th>\n",
       "      <th>max</th>\n",
       "    </tr>\n",
       "    <tr>\n",
       "      <th>stock_code</th>\n",
       "      <th></th>\n",
       "      <th></th>\n",
       "      <th></th>\n",
       "      <th></th>\n",
       "      <th></th>\n",
       "      <th></th>\n",
       "      <th></th>\n",
       "      <th></th>\n",
       "      <th></th>\n",
       "    </tr>\n",
       "  </thead>\n",
       "  <tbody>\n",
       "    <tr>\n",
       "      <th>a</th>\n",
       "      <td>4.25</td>\n",
       "      <td>4</td>\n",
       "      <td>9</td>\n",
       "      <td>5.66</td>\n",
       "      <td>3</td>\n",
       "      <td>10.99</td>\n",
       "      <td>6.25</td>\n",
       "      <td>4</td>\n",
       "      <td>20</td>\n",
       "    </tr>\n",
       "    <tr>\n",
       "      <th>b</th>\n",
       "      <td>5.0</td>\n",
       "      <td>2</td>\n",
       "      <td>6</td>\n",
       "      <td>2.45</td>\n",
       "      <td>1</td>\n",
       "      <td>2.45</td>\n",
       "      <td>10.00</td>\n",
       "      <td>2</td>\n",
       "      <td>20</td>\n",
       "    </tr>\n",
       "    <tr>\n",
       "      <th>c</th>\n",
       "      <td>6.0</td>\n",
       "      <td>2</td>\n",
       "      <td>10</td>\n",
       "      <td>2.99</td>\n",
       "      <td>1</td>\n",
       "      <td>2.99</td>\n",
       "      <td>20.00</td>\n",
       "      <td>2</td>\n",
       "      <td>20</td>\n",
       "    </tr>\n",
       "  </tbody>\n",
       "</table>\n",
       "</div>"
      ],
      "text/plain": [
       "           item_no            cost              tax_rate          \n",
       "              mean count max  mean count    max     mean count max\n",
       "stock_code                                                        \n",
       "a             4.25     4   9  5.66     3  10.99     6.25     4  20\n",
       "b              5.0     2   6  2.45     1   2.45    10.00     2  20\n",
       "c              6.0     2  10  2.99     1   2.99    20.00     2  20"
      ]
     },
     "execution_count": 19,
     "metadata": {},
     "output_type": "execute_result"
    }
   ],
   "source": [
    "more_aggs = (\n",
    "    grouped_stock\n",
    "    .agg([\"mean\", \"count\", \"max\"])\n",
    ")\n",
    "\n",
    "more_aggs"
   ]
  },
  {
   "cell_type": "code",
   "execution_count": 21,
   "id": "ae75be1f",
   "metadata": {},
   "outputs": [
    {
     "name": "stdout",
     "output_type": "stream",
     "text": [
      "<class 'pandas.core.frame.DataFrame'>\n",
      "RangeIndex: 10 entries, 0 to 9\n",
      "Data columns (total 6 columns):\n",
      " #   Column         Non-Null Count  Dtype  \n",
      "---  ------         --------------  -----  \n",
      " 0   item_no        10 non-null     Int64  \n",
      " 1   cost_class     9 non-null      string \n",
      " 2   cost           7 non-null      float64\n",
      " 3   stock_code     8 non-null      string \n",
      " 4   priority_code  6 non-null      string \n",
      " 5   tax_rate       10 non-null     int64  \n",
      "dtypes: Int64(1), float64(1), int64(1), string(3)\n",
      "memory usage: 618.0 bytes\n"
     ]
    }
   ],
   "source": [
    "stock.info()"
   ]
  },
  {
   "cell_type": "markdown",
   "id": "ad0a6e51",
   "metadata": {},
   "source": [
    "* `cost_class`\n",
    "    * string\n",
    "* `priority_code`\n",
    "    * string"
   ]
  },
  {
   "cell_type": "markdown",
   "id": "f1578a1d",
   "metadata": {},
   "source": [
    "Define a dictionary of aggregations defining which aggregations to perform on each column\n",
    "\n",
    "```python\n",
    "grouped_df.agg({\n",
    "    \"column_nmae\": [aggregate_operations]\n",
    "```"
   ]
  },
  {
   "cell_type": "code",
   "execution_count": 23,
   "id": "d3a06826",
   "metadata": {},
   "outputs": [
    {
     "data": {
      "text/html": [
       "<div>\n",
       "<style scoped>\n",
       "    .dataframe tbody tr th:only-of-type {\n",
       "        vertical-align: middle;\n",
       "    }\n",
       "\n",
       "    .dataframe tbody tr th {\n",
       "        vertical-align: top;\n",
       "    }\n",
       "\n",
       "    .dataframe thead tr th {\n",
       "        text-align: left;\n",
       "    }\n",
       "\n",
       "    .dataframe thead tr:last-of-type th {\n",
       "        text-align: right;\n",
       "    }\n",
       "</style>\n",
       "<table border=\"1\" class=\"dataframe\">\n",
       "  <thead>\n",
       "    <tr>\n",
       "      <th></th>\n",
       "      <th colspan=\"3\" halign=\"left\">cost_class</th>\n",
       "      <th colspan=\"2\" halign=\"left\">cost</th>\n",
       "      <th>stock_code</th>\n",
       "    </tr>\n",
       "    <tr>\n",
       "      <th></th>\n",
       "      <th>count</th>\n",
       "      <th>min</th>\n",
       "      <th>max</th>\n",
       "      <th>mean</th>\n",
       "      <th>median</th>\n",
       "      <th>count</th>\n",
       "    </tr>\n",
       "    <tr>\n",
       "      <th>stock_code</th>\n",
       "      <th></th>\n",
       "      <th></th>\n",
       "      <th></th>\n",
       "      <th></th>\n",
       "      <th></th>\n",
       "      <th></th>\n",
       "    </tr>\n",
       "  </thead>\n",
       "  <tbody>\n",
       "    <tr>\n",
       "      <th>a</th>\n",
       "      <td>4</td>\n",
       "      <td>1st</td>\n",
       "      <td>4th</td>\n",
       "      <td>5.66</td>\n",
       "      <td>3.00</td>\n",
       "      <td>4</td>\n",
       "    </tr>\n",
       "    <tr>\n",
       "      <th>b</th>\n",
       "      <td>2</td>\n",
       "      <td>3rd</td>\n",
       "      <td>4th</td>\n",
       "      <td>2.45</td>\n",
       "      <td>2.45</td>\n",
       "      <td>2</td>\n",
       "    </tr>\n",
       "    <tr>\n",
       "      <th>c</th>\n",
       "      <td>2</td>\n",
       "      <td>3rd</td>\n",
       "      <td>3rd</td>\n",
       "      <td>2.99</td>\n",
       "      <td>2.99</td>\n",
       "      <td>2</td>\n",
       "    </tr>\n",
       "  </tbody>\n",
       "</table>\n",
       "</div>"
      ],
      "text/plain": [
       "           cost_class            cost        stock_code\n",
       "                count  min  max  mean median      count\n",
       "stock_code                                             \n",
       "a                   4  1st  4th  5.66   3.00          4\n",
       "b                   2  3rd  4th  2.45   2.45          2\n",
       "c                   2  3rd  3rd  2.99   2.99          2"
      ]
     },
     "execution_count": 23,
     "metadata": {},
     "output_type": "execute_result"
    }
   ],
   "source": [
    "grouped_stock.agg({\n",
    "    \"cost_class\": [\"count\", \"min\", \"max\"],\n",
    "    \"cost\": [\"mean\", \"median\"],\n",
    "    \"stock_code\": [\"count\"]\n",
    "})"
   ]
  },
  {
   "cell_type": "code",
   "execution_count": 24,
   "id": "68a5309a",
   "metadata": {},
   "outputs": [],
   "source": [
    "multiple_group = (\n",
    "    stock\n",
    "    .groupby([\"cost_class\", \"stock_code\"])\n",
    ")"
   ]
  },
  {
   "cell_type": "code",
   "execution_count": 27,
   "id": "5fe20994",
   "metadata": {},
   "outputs": [
    {
     "data": {
      "text/html": [
       "<div>\n",
       "<style scoped>\n",
       "    .dataframe tbody tr th:only-of-type {\n",
       "        vertical-align: middle;\n",
       "    }\n",
       "\n",
       "    .dataframe tbody tr th {\n",
       "        vertical-align: top;\n",
       "    }\n",
       "\n",
       "    .dataframe thead th {\n",
       "        text-align: right;\n",
       "    }\n",
       "</style>\n",
       "<table border=\"1\" class=\"dataframe\">\n",
       "  <thead>\n",
       "    <tr style=\"text-align: right;\">\n",
       "      <th></th>\n",
       "      <th></th>\n",
       "      <th>item_no</th>\n",
       "      <th>cost</th>\n",
       "      <th>tax_rate</th>\n",
       "    </tr>\n",
       "    <tr>\n",
       "      <th>cost_class</th>\n",
       "      <th>stock_code</th>\n",
       "      <th></th>\n",
       "      <th></th>\n",
       "      <th></th>\n",
       "    </tr>\n",
       "  </thead>\n",
       "  <tbody>\n",
       "    <tr>\n",
       "      <th>1st</th>\n",
       "      <th>a</th>\n",
       "      <td>5.0</td>\n",
       "      <td>6.995</td>\n",
       "      <td>2.5</td>\n",
       "    </tr>\n",
       "    <tr>\n",
       "      <th>2nd</th>\n",
       "      <th>a</th>\n",
       "      <td>2.0</td>\n",
       "      <td>NaN</td>\n",
       "      <td>0.0</td>\n",
       "    </tr>\n",
       "    <tr>\n",
       "      <th rowspan=\"2\" valign=\"top\">3rd</th>\n",
       "      <th>b</th>\n",
       "      <td>6.0</td>\n",
       "      <td>2.450</td>\n",
       "      <td>0.0</td>\n",
       "    </tr>\n",
       "    <tr>\n",
       "      <th>c</th>\n",
       "      <td>6.0</td>\n",
       "      <td>2.990</td>\n",
       "      <td>20.0</td>\n",
       "    </tr>\n",
       "    <tr>\n",
       "      <th rowspan=\"2\" valign=\"top\">4th</th>\n",
       "      <th>a</th>\n",
       "      <td>5.0</td>\n",
       "      <td>2.990</td>\n",
       "      <td>20.0</td>\n",
       "    </tr>\n",
       "    <tr>\n",
       "      <th>b</th>\n",
       "      <td>4.0</td>\n",
       "      <td>NaN</td>\n",
       "      <td>20.0</td>\n",
       "    </tr>\n",
       "  </tbody>\n",
       "</table>\n",
       "</div>"
      ],
      "text/plain": [
       "                       item_no   cost  tax_rate\n",
       "cost_class stock_code                          \n",
       "1st        a               5.0  6.995       2.5\n",
       "2nd        a               2.0    NaN       0.0\n",
       "3rd        b               6.0  2.450       0.0\n",
       "           c               6.0  2.990      20.0\n",
       "4th        a               5.0  2.990      20.0\n",
       "           b               4.0    NaN      20.0"
      ]
     },
     "execution_count": 27,
     "metadata": {},
     "output_type": "execute_result"
    }
   ],
   "source": [
    "mean_multi_group = (\n",
    "    multiple_group\n",
    "    .agg(\"mean\")\n",
    ")\n",
    "\n",
    "mean_multi_group"
   ]
  },
  {
   "cell_type": "code",
   "execution_count": 31,
   "id": "65a32660",
   "metadata": {},
   "outputs": [
    {
     "data": {
      "text/plain": [
       "2.99"
      ]
     },
     "execution_count": 31,
     "metadata": {},
     "output_type": "execute_result"
    }
   ],
   "source": [
    "mean_multi_group.loc[(\"3rd\", \"c\"), \"cost\"]"
   ]
  },
  {
   "cell_type": "code",
   "execution_count": 29,
   "id": "3dd24562",
   "metadata": {},
   "outputs": [],
   "source": [
    "multiple_group_no_drop = (\n",
    "    stock\n",
    "    .groupby([\"cost_class\", \"stock_code\"], dropna=False)\n",
    ")"
   ]
  },
  {
   "cell_type": "code",
   "execution_count": 30,
   "id": "08a27e1c",
   "metadata": {},
   "outputs": [
    {
     "data": {
      "text/html": [
       "<div>\n",
       "<style scoped>\n",
       "    .dataframe tbody tr th:only-of-type {\n",
       "        vertical-align: middle;\n",
       "    }\n",
       "\n",
       "    .dataframe tbody tr th {\n",
       "        vertical-align: top;\n",
       "    }\n",
       "\n",
       "    .dataframe thead th {\n",
       "        text-align: right;\n",
       "    }\n",
       "</style>\n",
       "<table border=\"1\" class=\"dataframe\">\n",
       "  <thead>\n",
       "    <tr style=\"text-align: right;\">\n",
       "      <th></th>\n",
       "      <th></th>\n",
       "      <th>item_no</th>\n",
       "      <th>cost</th>\n",
       "      <th>tax_rate</th>\n",
       "    </tr>\n",
       "    <tr>\n",
       "      <th>cost_class</th>\n",
       "      <th>stock_code</th>\n",
       "      <th></th>\n",
       "      <th></th>\n",
       "      <th></th>\n",
       "    </tr>\n",
       "  </thead>\n",
       "  <tbody>\n",
       "    <tr>\n",
       "      <th>1st</th>\n",
       "      <th>a</th>\n",
       "      <td>5.0</td>\n",
       "      <td>6.995</td>\n",
       "      <td>2.5</td>\n",
       "    </tr>\n",
       "    <tr>\n",
       "      <th rowspan=\"2\" valign=\"top\">2nd</th>\n",
       "      <th>a</th>\n",
       "      <td>2.0</td>\n",
       "      <td>NaN</td>\n",
       "      <td>0.0</td>\n",
       "    </tr>\n",
       "    <tr>\n",
       "      <th>&lt;NA&gt;</th>\n",
       "      <td>7.0</td>\n",
       "      <td>5.990</td>\n",
       "      <td>20.0</td>\n",
       "    </tr>\n",
       "    <tr>\n",
       "      <th rowspan=\"2\" valign=\"top\">3rd</th>\n",
       "      <th>b</th>\n",
       "      <td>6.0</td>\n",
       "      <td>2.450</td>\n",
       "      <td>0.0</td>\n",
       "    </tr>\n",
       "    <tr>\n",
       "      <th>c</th>\n",
       "      <td>6.0</td>\n",
       "      <td>2.990</td>\n",
       "      <td>20.0</td>\n",
       "    </tr>\n",
       "    <tr>\n",
       "      <th rowspan=\"2\" valign=\"top\">4th</th>\n",
       "      <th>a</th>\n",
       "      <td>5.0</td>\n",
       "      <td>2.990</td>\n",
       "      <td>20.0</td>\n",
       "    </tr>\n",
       "    <tr>\n",
       "      <th>b</th>\n",
       "      <td>4.0</td>\n",
       "      <td>NaN</td>\n",
       "      <td>20.0</td>\n",
       "    </tr>\n",
       "    <tr>\n",
       "      <th>&lt;NA&gt;</th>\n",
       "      <th>&lt;NA&gt;</th>\n",
       "      <td>8.0</td>\n",
       "      <td>5.990</td>\n",
       "      <td>20.0</td>\n",
       "    </tr>\n",
       "  </tbody>\n",
       "</table>\n",
       "</div>"
      ],
      "text/plain": [
       "                       item_no   cost  tax_rate\n",
       "cost_class stock_code                          \n",
       "1st        a               5.0  6.995       2.5\n",
       "2nd        a               2.0    NaN       0.0\n",
       "           <NA>            7.0  5.990      20.0\n",
       "3rd        b               6.0  2.450       0.0\n",
       "           c               6.0  2.990      20.0\n",
       "4th        a               5.0  2.990      20.0\n",
       "           b               4.0    NaN      20.0\n",
       "<NA>       <NA>            8.0  5.990      20.0"
      ]
     },
     "execution_count": 30,
     "metadata": {},
     "output_type": "execute_result"
    }
   ],
   "source": [
    "multiple_group_no_drop.agg(\"mean\")"
   ]
  },
  {
   "cell_type": "markdown",
   "id": "1e053c41",
   "metadata": {},
   "source": [
    "## Bonus - Custom Aggregation\n",
    "\n",
    "Get the sum of each stock code group (minus a £2.00 restocking fee per item)"
   ]
  },
  {
   "cell_type": "code",
   "execution_count": 34,
   "id": "ebfa90c1",
   "metadata": {},
   "outputs": [],
   "source": [
    "stock_costs = grouped_stock.agg({\n",
    "    \"item_no\": [\"count\"],\n",
    "    \"cost\": [\"sum\"]\n",
    "})"
   ]
  },
  {
   "cell_type": "code",
   "execution_count": 35,
   "id": "586268da",
   "metadata": {},
   "outputs": [],
   "source": [
    "stock_costs[(\"cost\", \"sum\")] = stock_costs[(\"cost\", \"sum\")] - 2*stock_costs[(\"item_no\", \"count\")]"
   ]
  },
  {
   "cell_type": "code",
   "execution_count": 36,
   "id": "3c405ca7",
   "metadata": {},
   "outputs": [
    {
     "data": {
      "text/html": [
       "<div>\n",
       "<style scoped>\n",
       "    .dataframe tbody tr th:only-of-type {\n",
       "        vertical-align: middle;\n",
       "    }\n",
       "\n",
       "    .dataframe tbody tr th {\n",
       "        vertical-align: top;\n",
       "    }\n",
       "\n",
       "    .dataframe thead tr th {\n",
       "        text-align: left;\n",
       "    }\n",
       "\n",
       "    .dataframe thead tr:last-of-type th {\n",
       "        text-align: right;\n",
       "    }\n",
       "</style>\n",
       "<table border=\"1\" class=\"dataframe\">\n",
       "  <thead>\n",
       "    <tr>\n",
       "      <th></th>\n",
       "      <th>item_no</th>\n",
       "      <th>cost</th>\n",
       "    </tr>\n",
       "    <tr>\n",
       "      <th></th>\n",
       "      <th>count</th>\n",
       "      <th>sum</th>\n",
       "    </tr>\n",
       "    <tr>\n",
       "      <th>stock_code</th>\n",
       "      <th></th>\n",
       "      <th></th>\n",
       "    </tr>\n",
       "  </thead>\n",
       "  <tbody>\n",
       "    <tr>\n",
       "      <th>a</th>\n",
       "      <td>4</td>\n",
       "      <td>8.98</td>\n",
       "    </tr>\n",
       "    <tr>\n",
       "      <th>b</th>\n",
       "      <td>2</td>\n",
       "      <td>-1.55</td>\n",
       "    </tr>\n",
       "    <tr>\n",
       "      <th>c</th>\n",
       "      <td>2</td>\n",
       "      <td>-1.01</td>\n",
       "    </tr>\n",
       "  </tbody>\n",
       "</table>\n",
       "</div>"
      ],
      "text/plain": [
       "           item_no  cost\n",
       "             count   sum\n",
       "stock_code              \n",
       "a                4  8.98\n",
       "b                2 -1.55\n",
       "c                2 -1.01"
      ]
     },
     "execution_count": 36,
     "metadata": {},
     "output_type": "execute_result"
    }
   ],
   "source": [
    "stock_costs"
   ]
  },
  {
   "cell_type": "code",
   "execution_count": 37,
   "id": "74570f3a",
   "metadata": {},
   "outputs": [],
   "source": [
    "def sum_minus_restocking(rows, restocking_fee=2.00):\n",
    "    return(rows.sum() - (rows.count() * restocking_fee))"
   ]
  },
  {
   "cell_type": "code",
   "execution_count": 38,
   "id": "83bab8e6",
   "metadata": {},
   "outputs": [
    {
     "data": {
      "text/html": [
       "<div>\n",
       "<style scoped>\n",
       "    .dataframe tbody tr th:only-of-type {\n",
       "        vertical-align: middle;\n",
       "    }\n",
       "\n",
       "    .dataframe tbody tr th {\n",
       "        vertical-align: top;\n",
       "    }\n",
       "\n",
       "    .dataframe thead tr th {\n",
       "        text-align: left;\n",
       "    }\n",
       "\n",
       "    .dataframe thead tr:last-of-type th {\n",
       "        text-align: right;\n",
       "    }\n",
       "</style>\n",
       "<table border=\"1\" class=\"dataframe\">\n",
       "  <thead>\n",
       "    <tr>\n",
       "      <th></th>\n",
       "      <th>item_no</th>\n",
       "      <th>cost</th>\n",
       "    </tr>\n",
       "    <tr>\n",
       "      <th></th>\n",
       "      <th>count</th>\n",
       "      <th>sum_minus_restocking</th>\n",
       "    </tr>\n",
       "    <tr>\n",
       "      <th>stock_code</th>\n",
       "      <th></th>\n",
       "      <th></th>\n",
       "    </tr>\n",
       "  </thead>\n",
       "  <tbody>\n",
       "    <tr>\n",
       "      <th>a</th>\n",
       "      <td>4</td>\n",
       "      <td>10.98</td>\n",
       "    </tr>\n",
       "    <tr>\n",
       "      <th>b</th>\n",
       "      <td>2</td>\n",
       "      <td>0.45</td>\n",
       "    </tr>\n",
       "    <tr>\n",
       "      <th>c</th>\n",
       "      <td>2</td>\n",
       "      <td>0.99</td>\n",
       "    </tr>\n",
       "  </tbody>\n",
       "</table>\n",
       "</div>"
      ],
      "text/plain": [
       "           item_no                 cost\n",
       "             count sum_minus_restocking\n",
       "stock_code                             \n",
       "a                4                10.98\n",
       "b                2                 0.45\n",
       "c                2                 0.99"
      ]
     },
     "execution_count": 38,
     "metadata": {},
     "output_type": "execute_result"
    }
   ],
   "source": [
    "# different results due to handling of NA values\n",
    "\n",
    "stock_costs = grouped_stock.agg({\n",
    "    \"item_no\": [\"count\"],\n",
    "    \"cost\": sum_minus_restocking\n",
    "})\n",
    "\n",
    "stock_costs"
   ]
  },
  {
   "cell_type": "code",
   "execution_count": null,
   "id": "1e46870b",
   "metadata": {},
   "outputs": [],
   "source": []
  },
  {
   "cell_type": "code",
   "execution_count": null,
   "id": "bc9003b8",
   "metadata": {},
   "outputs": [],
   "source": []
  },
  {
   "cell_type": "code",
   "execution_count": null,
   "id": "b5cd08f3",
   "metadata": {},
   "outputs": [],
   "source": []
  },
  {
   "cell_type": "code",
   "execution_count": null,
   "id": "4f74850e",
   "metadata": {},
   "outputs": [],
   "source": []
  },
  {
   "cell_type": "code",
   "execution_count": null,
   "id": "78e327aa",
   "metadata": {},
   "outputs": [],
   "source": []
  },
  {
   "cell_type": "code",
   "execution_count": null,
   "id": "f9dfa7c6",
   "metadata": {},
   "outputs": [],
   "source": []
  },
  {
   "cell_type": "code",
   "execution_count": null,
   "id": "de3dd933",
   "metadata": {},
   "outputs": [],
   "source": []
  }
 ],
 "metadata": {
  "kernelspec": {
   "display_name": "Python 3 (ipykernel)",
   "language": "python",
   "name": "python3"
  },
  "language_info": {
   "codemirror_mode": {
    "name": "ipython",
    "version": 3
   },
   "file_extension": ".py",
   "mimetype": "text/x-python",
   "name": "python",
   "nbconvert_exporter": "python",
   "pygments_lexer": "ipython3",
   "version": "3.9.12"
  },
  "varInspector": {
   "cols": {
    "lenName": 16,
    "lenType": 16,
    "lenVar": 40
   },
   "kernels_config": {
    "python": {
     "delete_cmd_postfix": "",
     "delete_cmd_prefix": "del ",
     "library": "var_list.py",
     "varRefreshCmd": "print(var_dic_list())"
    },
    "r": {
     "delete_cmd_postfix": ") ",
     "delete_cmd_prefix": "rm(",
     "library": "var_list.r",
     "varRefreshCmd": "cat(var_dic_list()) "
    }
   },
   "types_to_exclude": [
    "module",
    "function",
    "builtin_function_or_method",
    "instance",
    "_Feature"
   ],
   "window_display": false
  }
 },
 "nbformat": 4,
 "nbformat_minor": 5
}
