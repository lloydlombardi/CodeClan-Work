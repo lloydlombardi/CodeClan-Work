{
 "cells": [
  {
   "cell_type": "code",
   "execution_count": 1,
   "id": "1226fb8d",
   "metadata": {},
   "outputs": [],
   "source": [
    "import pandas as pd"
   ]
  },
  {
   "cell_type": "code",
   "execution_count": 2,
   "id": "87894c3b",
   "metadata": {},
   "outputs": [],
   "source": [
    "community = pd.read_csv('data/community_belonging.csv')\n",
    "\n",
    "green_spaces = pd.read_csv('data/green_spaces.csv')\n",
    "\n",
    "neighbourhood = pd.read_csv('data/neighbourhood_rating.csv')"
   ]
  },
  {
   "cell_type": "code",
   "execution_count": 3,
   "id": "845741c5",
   "metadata": {},
   "outputs": [
    {
     "data": {
      "text/plain": [
       "FeatureCode                               0\n",
       "DateCode                                  0\n",
       "Measurement                               0\n",
       "Units                                     0\n",
       "Value                                     0\n",
       "Community belonging                       0\n",
       "Gender                                    0\n",
       "Urban Rural Classification                0\n",
       "SIMD quintiles                            0\n",
       "Type Of Tenure                            0\n",
       "Household Type                            0\n",
       "Ethnicity                                 0\n",
       "Walking distance to nearest greenspace    0\n",
       "dtype: int64"
      ]
     },
     "execution_count": 3,
     "metadata": {},
     "output_type": "execute_result"
    }
   ],
   "source": [
    "community.isna().sum()"
   ]
  },
  {
   "cell_type": "code",
   "execution_count": 4,
   "id": "300e3617",
   "metadata": {},
   "outputs": [
    {
     "data": {
      "text/plain": [
       "FeatureCode                                0\n",
       "DateCode                                   0\n",
       "Measurement                                0\n",
       "Units                                      0\n",
       "Value                                      0\n",
       "Distance to Nearest Green or Blue Space    0\n",
       "Age                                        0\n",
       "Gender                                     0\n",
       "Urban Rural Classification                 0\n",
       "SIMD quintiles                             0\n",
       "Type Of Tenure                             0\n",
       "Household Type                             0\n",
       "Ethnicity                                  0\n",
       "dtype: int64"
      ]
     },
     "execution_count": 4,
     "metadata": {},
     "output_type": "execute_result"
    }
   ],
   "source": [
    "green_spaces.isna().sum()"
   ]
  },
  {
   "cell_type": "code",
   "execution_count": 5,
   "id": "61a58907",
   "metadata": {},
   "outputs": [
    {
     "data": {
      "text/plain": [
       "FeatureCode                               0\n",
       "DateCode                                  0\n",
       "Measurement                               0\n",
       "Units                                     0\n",
       "Value                                     0\n",
       "Neighbourhood rating                      0\n",
       "Gender                                    0\n",
       "Urban Rural Classification                0\n",
       "SIMD quintiles                            0\n",
       "Type Of Tenure                            0\n",
       "Household Type                            0\n",
       "Ethnicity                                 0\n",
       "Walking distance to nearest greenspace    0\n",
       "dtype: int64"
      ]
     },
     "execution_count": 5,
     "metadata": {},
     "output_type": "execute_result"
    }
   ],
   "source": [
    "neighbourhood.isna().sum()"
   ]
  },
  {
   "cell_type": "code",
   "execution_count": null,
   "id": "f43b12bb",
   "metadata": {},
   "outputs": [],
   "source": []
  }
 ],
 "metadata": {
  "kernelspec": {
   "display_name": "Python 3 (ipykernel)",
   "language": "python",
   "name": "python3"
  },
  "language_info": {
   "codemirror_mode": {
    "name": "ipython",
    "version": 3
   },
   "file_extension": ".py",
   "mimetype": "text/x-python",
   "name": "python",
   "nbconvert_exporter": "python",
   "pygments_lexer": "ipython3",
   "version": "3.9.12"
  },
  "varInspector": {
   "cols": {
    "lenName": 16,
    "lenType": 16,
    "lenVar": 40
   },
   "kernels_config": {
    "python": {
     "delete_cmd_postfix": "",
     "delete_cmd_prefix": "del ",
     "library": "var_list.py",
     "varRefreshCmd": "print(var_dic_list())"
    },
    "r": {
     "delete_cmd_postfix": ") ",
     "delete_cmd_prefix": "rm(",
     "library": "var_list.r",
     "varRefreshCmd": "cat(var_dic_list()) "
    }
   },
   "types_to_exclude": [
    "module",
    "function",
    "builtin_function_or_method",
    "instance",
    "_Feature"
   ],
   "window_display": false
  }
 },
 "nbformat": 4,
 "nbformat_minor": 5
}
